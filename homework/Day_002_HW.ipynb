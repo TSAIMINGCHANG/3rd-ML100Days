{
 "cells": [
  {
   "cell_type": "markdown",
   "metadata": {},
   "source": [
    "## 作業\n",
    "請找出一個你認為機器學習可以發光發熱的領域並闡述原因? \n"
   ]
  },
  {
   "cell_type": "code",
   "execution_count": null,
   "metadata": {},
   "outputs": [],
   "source": [
    "至今已累積了相當多資料，應該可滿足\n",
    "機器學習所需的資料量。其次，硬體的高速運算也可滿足學界已經有許多論文以迴歸方式找出許多變數可以預測報酬率，甚至是變數或變\n",
    "數間有交互關係。若是使用機器學習，可以處理高維數據外，也可以處理非線性關係。達到即時的反應。讓現今人們更能接受。"
   ]
  }
 ],
 "metadata": {
  "kernelspec": {
   "display_name": "Python 3",
   "language": "python",
   "name": "python3"
  },
  "language_info": {
   "codemirror_mode": {
    "name": "ipython",
    "version": 3
   },
   "file_extension": ".py",
   "mimetype": "text/x-python",
   "name": "python",
   "nbconvert_exporter": "python",
   "pygments_lexer": "ipython3",
   "version": "3.7.3"
  }
 },
 "nbformat": 4,
 "nbformat_minor": 2
}
